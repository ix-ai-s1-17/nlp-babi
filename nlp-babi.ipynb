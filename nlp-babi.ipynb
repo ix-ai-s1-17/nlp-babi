{
 "cells": [
  {
   "cell_type": "code",
   "execution_count": 1,
   "metadata": {},
   "outputs": [
    {
     "name": "stderr",
     "output_type": "stream",
     "text": [
      "Using TensorFlow backend.\n"
     ]
    }
   ],
   "source": [
    "import tarfile\n",
    "\n",
    "import numpy as np\n",
    "\n",
    "from keras.utils.data_utils import get_file\n",
    "from keras.layers.embeddings import Embedding\n",
    "from keras import layers\n",
    "from keras.layers import recurrent\n",
    "from keras.models import Model\n",
    "from keras.preprocessing.sequence import pad_sequences"
   ]
  },
  {
   "cell_type": "code",
   "execution_count": 2,
   "metadata": {
    "collapsed": true
   },
   "outputs": [],
   "source": [
    "# Default QA1 with 1000 samples\n",
    "#challenge = 'tasks_1-20_v1-2/en/qa1_single-supporting-fact_{}.txt'\n",
    "# QA1 with 10,000 samples\n",
    "challenge = 'tasks_1-20_v1-2/en-10k/qa1_single-supporting-fact_{}.txt'\n",
    "# QA2 with 1000 samples\n",
    "#challenge = 'tasks_1-20_v1-2/en/qa2_two-supporting-facts_{}.txt'\n",
    "# QA2 with 10,000 samples\n",
    "# challenge = 'tasks_1-20_v1-2/en-10k/qa2_two-supporting-facts_{}.txt'\n",
    "\n",
    "try:\n",
    "    path = get_file('babi-tasks-v1-2.tar.gz', origin='https://s3.amazonaws.com/text-datasets/babi_tasks_1-20_v1-2.tar.gz')\n",
    "except:\n",
    "    print('Error downloading dataset, please download it manually:\\n'\n",
    "          '$ wget http://www.thespermwhale.com/jaseweston/babi/tasks_1-20_v1-2.tar.gz\\n'\n",
    "          '$ mv tasks_1-20_v1-2.tar.gz ~/.keras/datasets/babi-tasks-v1-2.tar.gz')\n",
    "    raise\n",
    "tar = tarfile.open(path)"
   ]
  },
  {
   "cell_type": "code",
   "execution_count": 3,
   "metadata": {
    "collapsed": true
   },
   "outputs": [],
   "source": [
    "import spacy\n",
    "\n",
    "nlp = spacy.load('en')"
   ]
  },
  {
   "cell_type": "code",
   "execution_count": 4,
   "metadata": {
    "collapsed": true
   },
   "outputs": [],
   "source": [
    "def tokenize(sent):\n",
    "    '''Return the tokens of a sentence including punctuation.\n",
    "    >>> tokenize('Bob dropped the apple. Where is the apple?')\n",
    "    ['Bob', 'dropped', 'the', 'apple', '.', 'Where', 'is', 'the', 'apple', '?']\n",
    "    '''\n",
    "    return [x.text.strip() for x in nlp(sent) if x.text.strip()], [x.pos_ for x in nlp(sent) if x.text.strip()]"
   ]
  },
  {
   "cell_type": "code",
   "execution_count": 5,
   "metadata": {
    "collapsed": true
   },
   "outputs": [],
   "source": [
    "def parse_stories(lines):\n",
    "    '''Parse stories provided in the bAbi tasks format\n",
    "    If only_supporting is true,\n",
    "    only the sentences that support the answer are kept.\n",
    "    '''\n",
    "    data = []\n",
    "    story = []\n",
    "    for line in lines:\n",
    "        line = line.decode('utf-8').strip()\n",
    "        nid, line = line.split(' ', 1)\n",
    "        nid = int(nid)\n",
    "        if nid == 1:\n",
    "            story = []\n",
    "        # Get answer line\n",
    "        if '\\t' in line:\n",
    "            q, a, _ = line.split('\\t')\n",
    "            q = tokenize(q)\n",
    "            data.append(([x for x in story if x], q, a))\n",
    "            story.append(('', '')) # End token\n",
    "        # Get story line\n",
    "        else:\n",
    "            story.append(tokenize(line))\n",
    "    return data"
   ]
  },
  {
   "cell_type": "code",
   "execution_count": 6,
   "metadata": {
    "collapsed": true
   },
   "outputs": [],
   "source": [
    "def get_stories(f):\n",
    "    '''Given a file name, read the file, retrieve the stories,\n",
    "    and then convert the sentences into a single story.\n",
    "    If max_length is supplied,\n",
    "    any stories longer than max_length tokens will be discarded.\n",
    "    '''\n",
    "    data = parse_stories(f.readlines())\n",
    "    def dual_flatten(data):\n",
    "        words, pos = [], []\n",
    "        for d in data:\n",
    "            words.extend(d[0])\n",
    "            pos.extend(d[1])\n",
    "        return words, pos\n",
    "    data = [(dual_flatten(story), q, answer) for story, q, answer in data]\n",
    "    return data"
   ]
  },
  {
   "cell_type": "code",
   "execution_count": 7,
   "metadata": {
    "collapsed": true
   },
   "outputs": [],
   "source": [
    "def vectorize_stories(data, word_idx, pos_idx, story_maxlen, query_maxlen):\n",
    "    xs = []\n",
    "    xspos = []\n",
    "    xqs = []\n",
    "    xqspos = []\n",
    "    ys = []\n",
    "    for story, query, answer in data:\n",
    "        story, storypos = story\n",
    "        query, querypos = query\n",
    "        x = [word_idx[w] for w in story]\n",
    "        xpos = [pos_idx[w] for w in storypos]\n",
    "        xq = [word_idx[w] for w in query]\n",
    "        xqpos = [pos_idx[w] for w in querypos]\n",
    "        # let's not forget that index 0 is reserved\n",
    "        y = np.zeros(len(word_idx) + 1)\n",
    "        y[word_idx[answer]] = 1\n",
    "        xs.append(x)\n",
    "        xspos.append(xpos)\n",
    "        xqs.append(xq)\n",
    "        xqspos.append(xqpos)\n",
    "        ys.append(y)\n",
    "    return (\n",
    "        pad_sequences(xs, maxlen=story_maxlen), pad_sequences(xspos, maxlen=story_maxlen),\n",
    "        pad_sequences(xqs, maxlen=query_maxlen), pad_sequences(xqspos, maxlen=query_maxlen),\n",
    "        np.array(ys)\n",
    "    )"
   ]
  },
  {
   "cell_type": "code",
   "execution_count": 8,
   "metadata": {
    "collapsed": true
   },
   "outputs": [],
   "source": [
    "train = get_stories(tar.extractfile(challenge.format('train')))\n",
    "test = get_stories(tar.extractfile(challenge.format('test')))"
   ]
  },
  {
   "cell_type": "code",
   "execution_count": 9,
   "metadata": {},
   "outputs": [
    {
     "data": {
      "text/plain": [
       "((['Mary',\n",
       "   'moved',\n",
       "   'to',\n",
       "   'the',\n",
       "   'bathroom',\n",
       "   '.',\n",
       "   'John',\n",
       "   'went',\n",
       "   'to',\n",
       "   'the',\n",
       "   'hallway',\n",
       "   '.'],\n",
       "  ['PROPN',\n",
       "   'VERB',\n",
       "   'ADP',\n",
       "   'DET',\n",
       "   'NOUN',\n",
       "   'PUNCT',\n",
       "   'PROPN',\n",
       "   'VERB',\n",
       "   'ADP',\n",
       "   'DET',\n",
       "   'NOUN',\n",
       "   'PUNCT']),\n",
       " (['Where', 'is', 'Mary', '?'], ['ADV', 'VERB', 'PROPN', 'PUNCT']),\n",
       " 'bathroom')"
      ]
     },
     "execution_count": 9,
     "metadata": {},
     "output_type": "execute_result"
    }
   ],
   "source": [
    "train[0]"
   ]
  },
  {
   "cell_type": "code",
   "execution_count": 10,
   "metadata": {
    "collapsed": true
   },
   "outputs": [],
   "source": [
    "def build_vocab(inputs, idx, use_answer):\n",
    "    vocab = set()\n",
    "    for story, q, answer in inputs:\n",
    "        vocab |= set(story[idx] + q[idx])\n",
    "        if use_answer:\n",
    "            vocab.add(answer)\n",
    "    return sorted(vocab)\n",
    "\n",
    "word_vocab = build_vocab(train + test, 0, True)\n",
    "pos_vocab = build_vocab(train + test, 1, False)"
   ]
  },
  {
   "cell_type": "code",
   "execution_count": 11,
   "metadata": {
    "collapsed": true
   },
   "outputs": [],
   "source": [
    "# Reserve 0 for masking via pad_sequences\n",
    "word_vocab_size = len(word_vocab) + 1\n",
    "pos_vocab_size = len(pos_vocab) + 1\n",
    "\n",
    "word_idx = dict((c, i + 1) for i, c in enumerate(word_vocab))\n",
    "pos_idx = dict((c, i + 1) for i, c in enumerate(pos_vocab))\n",
    "\n",
    "story_maxlen = max(map(len, (x[0] for x, _, _ in train + test)))\n",
    "query_maxlen = max(map(len, (x[0] for _, x, _ in train + test)))"
   ]
  },
  {
   "cell_type": "code",
   "execution_count": 12,
   "metadata": {
    "collapsed": true
   },
   "outputs": [],
   "source": [
    "x, xpos, xq, xqpos, y = vectorize_stories(train, word_idx, pos_idx, story_maxlen, query_maxlen)\n",
    "tx, txpos, txq, txqpos, ty = vectorize_stories(test, word_idx, pos_idx, story_maxlen, query_maxlen)"
   ]
  },
  {
   "cell_type": "code",
   "execution_count": 13,
   "metadata": {},
   "outputs": [
    {
     "name": "stdout",
     "output_type": "stream",
     "text": [
      "word_vocab = ['.', '?', 'Daniel', 'John', 'Mary', 'Sandra', 'Where', 'back', 'bathroom', 'bedroom', 'garden', 'hallway', 'is', 'journeyed', 'kitchen', 'moved', 'office', 'the', 'to', 'travelled', 'went']\n",
      "pos_vocab = ['ADP', 'ADV', 'DET', 'NOUN', 'PROPN', 'PUNCT', 'VERB']\n",
      "x.shape = (10000, 68)\n",
      "xpos.shape = (10000, 68)\n",
      "xq.shape = (10000, 4)\n",
      "xqpos.shape = (10000, 4)\n",
      "y.shape = (10000, 22)\n",
      "story_maxlen, query_maxlen = 68, 4\n"
     ]
    }
   ],
   "source": [
    "print('word_vocab = {}'.format(word_vocab))\n",
    "print('pos_vocab = {}'.format(pos_vocab))\n",
    "print('x.shape = {}'.format(x.shape))\n",
    "print('xpos.shape = {}'.format(xpos.shape))\n",
    "print('xq.shape = {}'.format(xq.shape))\n",
    "print('xqpos.shape = {}'.format(xqpos.shape))\n",
    "print('y.shape = {}'.format(y.shape))\n",
    "print('story_maxlen, query_maxlen = {}, {}'.format(story_maxlen, query_maxlen))"
   ]
  },
  {
   "cell_type": "code",
   "execution_count": 14,
   "metadata": {},
   "outputs": [
    {
     "name": "stdout",
     "output_type": "stream",
     "text": [
      "RNN / Embed / Sent / Query = <class 'keras.layers.recurrent.LSTM'>, 50, 100, 100\n"
     ]
    }
   ],
   "source": [
    "RNN = recurrent.LSTM\n",
    "EMBED_HIDDEN_SIZE = 50\n",
    "POS_EMBED_HIDDEN_SIZE = 10\n",
    "SENT_HIDDEN_SIZE = 100\n",
    "QUERY_HIDDEN_SIZE = 100\n",
    "BATCH_SIZE = 32\n",
    "EPOCHS = 35\n",
    "print('RNN / Embed / Sent / Query = {}, {}, {}, {}'.format(RNN,\n",
    "                                                           EMBED_HIDDEN_SIZE,\n",
    "                                                           SENT_HIDDEN_SIZE,\n",
    "                                                           QUERY_HIDDEN_SIZE))"
   ]
  },
  {
   "cell_type": "code",
   "execution_count": 17,
   "metadata": {
    "scrolled": true
   },
   "outputs": [
    {
     "name": "stdout",
     "output_type": "stream",
     "text": [
      "Build model...\n"
     ]
    }
   ],
   "source": [
    "print('Build model...')\n",
    "\n",
    "def one_hot_embedder(n, input_tensor):\n",
    "    U = np.eye(n)\n",
    "    U[0, 0] = 0\n",
    "    return layers.Embedding(n, n, weights=[U], trainable=False)(input_tensor)\n",
    "    \n",
    "\n",
    "sentence = layers.Input(shape=(story_maxlen,), dtype='int32')\n",
    "sentence_pos = layers.Input(shape=(story_maxlen,), dtype='int32')\n",
    "encoded_sentence = layers.Embedding(word_vocab_size, EMBED_HIDDEN_SIZE)(sentence)\n",
    "encoded_sentence_pos = one_hot_embedder(pos_vocab_size, sentence_pos)\n",
    "encoded_sentence = layers.Dropout(0.3)(encoded_sentence)\n",
    "\n",
    "question = layers.Input(shape=(query_maxlen,), dtype='int32')\n",
    "question_pos = layers.Input(shape=(query_maxlen,), dtype='int32')\n",
    "encoded_question = layers.Embedding(word_vocab_size, EMBED_HIDDEN_SIZE)(question)\n",
    "encoded_question_pos = one_hot_embedder(pos_vocab_size, question_pos)\n",
    "encoded_question = layers.Dropout(0.3)(encoded_question)\n",
    "merged_question = layers.concatenate([encoded_question, encoded_question_pos])\n",
    "encoded_question = RNN(QUERY_HIDDEN_SIZE)(merged_question)\n",
    "\n",
    "encoded_question = layers.RepeatVector(story_maxlen)(encoded_question)\n",
    "\n",
    "merged = layers.concatenate([encoded_question, encoded_sentence, encoded_sentence_pos])\n",
    "merged = RNN(SENT_HIDDEN_SIZE)(merged)\n",
    "merged = layers.Dropout(0.3)(merged)\n",
    "preds = layers.Dense(word_vocab_size, activation='softmax')(merged)\n",
    "\n",
    "model = Model([sentence, sentence_pos, question, question_pos], preds)\n",
    "model.compile(optimizer='rmsprop',\n",
    "              loss='categorical_crossentropy',\n",
    "              metrics=['accuracy'])"
   ]
  },
  {
   "cell_type": "code",
   "execution_count": null,
   "metadata": {
    "scrolled": false
   },
   "outputs": [],
   "source": [
    "print('Training')\n",
    "model.fit([x, xpos, xq, xqpos], y,\n",
    "          batch_size=BATCH_SIZE,\n",
    "          epochs=EPOCHS,\n",
    "          validation_split=0.05)\n",
    "loss, acc = model.evaluate([tx, txpos, txq, txqpos], ty,\n",
    "                           batch_size=BATCH_SIZE)\n",
    "print('Test loss / test accuracy = {:.4f} / {:.4f}'.format(loss, acc))"
   ]
  },
  {
   "cell_type": "code",
   "execution_count": 18,
   "metadata": {
    "scrolled": true
   },
   "outputs": [
    {
     "name": "stdout",
     "output_type": "stream",
     "text": [
      "Training 10\n",
      "Train on 9 samples, validate on 1 samples\n",
      "Epoch 1/15\n",
      "9/9 [==============================] - 0s - loss: 3.0728 - acc: 0.0000e+00 - val_loss: 2.9533 - val_acc: 0.0000e+00\n",
      "Epoch 2/15\n",
      "9/9 [==============================] - 0s - loss: 2.8824 - acc: 0.5556 - val_loss: 2.7891 - val_acc: 0.0000e+00\n",
      "Epoch 3/15\n",
      "9/9 [==============================] - 0s - loss: 2.6290 - acc: 0.5556 - val_loss: 2.4550 - val_acc: 0.0000e+00\n",
      "Epoch 4/15\n",
      "9/9 [==============================] - 0s - loss: 1.9138 - acc: 0.5556 - val_loss: 2.5537 - val_acc: 0.0000e+00\n",
      "Epoch 5/15\n",
      "9/9 [==============================] - 0s - loss: 1.2987 - acc: 0.5556 - val_loss: 2.0064 - val_acc: 0.0000e+00\n",
      "Epoch 6/15\n",
      "9/9 [==============================] - 0s - loss: 1.1872 - acc: 0.5556 - val_loss: 1.6188 - val_acc: 0.0000e+00\n",
      "Epoch 7/15\n",
      "9/9 [==============================] - 0s - loss: 1.1686 - acc: 0.5556 - val_loss: 1.6902 - val_acc: 0.0000e+00\n",
      "Epoch 8/15\n",
      "9/9 [==============================] - 0s - loss: 1.2313 - acc: 0.5556 - val_loss: 1.6130 - val_acc: 0.0000e+00\n",
      "Epoch 9/15\n",
      "9/9 [==============================] - 0s - loss: 1.1235 - acc: 0.4444 - val_loss: 1.9274 - val_acc: 0.0000e+00\n",
      "Epoch 10/15\n",
      "9/9 [==============================] - 0s - loss: 1.1434 - acc: 0.5556 - val_loss: 1.7511 - val_acc: 0.0000e+00\n",
      "Epoch 11/15\n",
      "9/9 [==============================] - 0s - loss: 1.2636 - acc: 0.5556 - val_loss: 1.5213 - val_acc: 0.0000e+00\n",
      "Epoch 12/15\n",
      "9/9 [==============================] - 0s - loss: 1.1986 - acc: 0.5556 - val_loss: 1.6929 - val_acc: 0.0000e+00\n",
      "Epoch 13/15\n",
      "9/9 [==============================] - 0s - loss: 1.0357 - acc: 0.6667 - val_loss: 1.4723 - val_acc: 0.0000e+00\n",
      "Epoch 14/15\n",
      "9/9 [==============================] - 0s - loss: 1.0012 - acc: 0.6667 - val_loss: 1.7412 - val_acc: 0.0000e+00\n",
      "Epoch 15/15\n",
      "9/9 [==============================] - 0s - loss: 1.0979 - acc: 0.4444 - val_loss: 1.5986 - val_acc: 0.0000e+00\n",
      " 992/1000 [============================>.] - ETA: 0sTraining 100\n",
      "Train on 95 samples, validate on 5 samples\n",
      "Epoch 1/15\n",
      "95/95 [==============================] - 1s - loss: 2.9018 - acc: 0.2105 - val_loss: 2.9694 - val_acc: 0.2000\n",
      "Epoch 2/15\n",
      "95/95 [==============================] - 0s - loss: 2.3505 - acc: 0.2105 - val_loss: 2.9047 - val_acc: 0.0000e+00\n",
      "Epoch 3/15\n",
      "95/95 [==============================] - 0s - loss: 2.1077 - acc: 0.2000 - val_loss: 2.3322 - val_acc: 0.2000\n",
      "Epoch 4/15\n",
      "95/95 [==============================] - 0s - loss: 2.0023 - acc: 0.2316 - val_loss: 2.0863 - val_acc: 0.0000e+00\n",
      "Epoch 5/15\n",
      "95/95 [==============================] - 0s - loss: 1.9206 - acc: 0.2000 - val_loss: 2.0397 - val_acc: 0.0000e+00\n",
      "Epoch 6/15\n",
      "95/95 [==============================] - 1s - loss: 1.9183 - acc: 0.2737 - val_loss: 2.0349 - val_acc: 0.2000\n",
      "Epoch 7/15\n",
      "95/95 [==============================] - 0s - loss: 1.8756 - acc: 0.2105 - val_loss: 2.0263 - val_acc: 0.2000\n",
      "Epoch 8/15\n",
      "95/95 [==============================] - 0s - loss: 1.9047 - acc: 0.2211 - val_loss: 2.0288 - val_acc: 0.0000e+00\n",
      "Epoch 9/15\n",
      "95/95 [==============================] - 0s - loss: 1.9155 - acc: 0.1684 - val_loss: 2.0115 - val_acc: 0.2000\n",
      "Epoch 10/15\n",
      "95/95 [==============================] - 0s - loss: 1.8640 - acc: 0.1684 - val_loss: 2.0158 - val_acc: 0.0000e+00\n",
      "Epoch 11/15\n",
      "95/95 [==============================] - 0s - loss: 1.8898 - acc: 0.1158 - val_loss: 2.1206 - val_acc: 0.2000\n",
      "Epoch 12/15\n",
      "95/95 [==============================] - 0s - loss: 1.8793 - acc: 0.1263 - val_loss: 2.0107 - val_acc: 0.2000\n",
      "Epoch 13/15\n",
      "95/95 [==============================] - 0s - loss: 1.8117 - acc: 0.2316 - val_loss: 2.1363 - val_acc: 0.0000e+00\n",
      "Epoch 14/15\n",
      "95/95 [==============================] - 0s - loss: 1.8162 - acc: 0.2526 - val_loss: 1.9228 - val_acc: 0.4000\n",
      "Epoch 15/15\n",
      "95/95 [==============================] - 0s - loss: 1.9108 - acc: 0.1474 - val_loss: 2.1770 - val_acc: 0.2000\n",
      " 992/1000 [============================>.] - ETA: 0sTraining 1000\n",
      "Train on 950 samples, validate on 50 samples\n",
      "Epoch 1/15\n",
      "950/950 [==============================] - 6s - loss: 1.8416 - acc: 0.2095 - val_loss: 2.0513 - val_acc: 0.0800\n",
      "Epoch 2/15\n",
      "950/950 [==============================] - 5s - loss: 1.7569 - acc: 0.2432 - val_loss: 1.6084 - val_acc: 0.3200\n",
      "Epoch 3/15\n",
      "950/950 [==============================] - 6s - loss: 1.6744 - acc: 0.3011 - val_loss: 1.7891 - val_acc: 0.3200\n",
      "Epoch 4/15\n",
      "950/950 [==============================] - 5s - loss: 1.6154 - acc: 0.3337 - val_loss: 1.5751 - val_acc: 0.3800\n",
      "Epoch 5/15\n",
      "950/950 [==============================] - 6s - loss: 1.5462 - acc: 0.3768 - val_loss: 1.5355 - val_acc: 0.4800\n",
      "Epoch 6/15\n",
      "950/950 [==============================] - 7s - loss: 1.4773 - acc: 0.4316 - val_loss: 1.4626 - val_acc: 0.4600\n",
      "Epoch 7/15\n",
      "950/950 [==============================] - 8s - loss: 1.4277 - acc: 0.4453 - val_loss: 1.5593 - val_acc: 0.4200\n",
      "Epoch 8/15\n",
      "950/950 [==============================] - 9s - loss: 1.3973 - acc: 0.4979 - val_loss: 1.4318 - val_acc: 0.4200\n",
      "Epoch 9/15\n",
      "950/950 [==============================] - 9s - loss: 1.3489 - acc: 0.4863 - val_loss: 1.4304 - val_acc: 0.5200\n",
      "Epoch 10/15\n",
      "950/950 [==============================] - 7s - loss: 1.3086 - acc: 0.5042 - val_loss: 1.6148 - val_acc: 0.3800\n",
      "Epoch 11/15\n",
      "950/950 [==============================] - 6s - loss: 1.2672 - acc: 0.5284 - val_loss: 1.4070 - val_acc: 0.5000\n",
      "Epoch 12/15\n",
      "950/950 [==============================] - 6s - loss: 1.2537 - acc: 0.5074 - val_loss: 1.2804 - val_acc: 0.5000\n",
      "Epoch 13/15\n",
      "950/950 [==============================] - 6s - loss: 1.2061 - acc: 0.5474 - val_loss: 1.3598 - val_acc: 0.4800\n",
      "Epoch 14/15\n",
      "950/950 [==============================] - 6s - loss: 1.1796 - acc: 0.5726 - val_loss: 1.3754 - val_acc: 0.4600\n",
      "Epoch 15/15\n",
      "950/950 [==============================] - 6s - loss: 1.1617 - acc: 0.5653 - val_loss: 1.2844 - val_acc: 0.5200\n",
      "1000/1000 [==============================] - 2s     \n",
      "Training 3000\n",
      "Train on 2850 samples, validate on 150 samples\n",
      "Epoch 1/15\n",
      "2850/2850 [==============================] - 21s - loss: 1.2330 - acc: 0.5253 - val_loss: 1.3696 - val_acc: 0.4800\n",
      "Epoch 2/15\n",
      "2850/2850 [==============================] - 19s - loss: 1.1808 - acc: 0.5309 - val_loss: 1.4275 - val_acc: 0.4533\n",
      "Epoch 3/15\n",
      "2850/2850 [==============================] - 20s - loss: 1.1691 - acc: 0.5204 - val_loss: 1.3636 - val_acc: 0.4600\n",
      "Epoch 4/15\n",
      "2850/2850 [==============================] - 18s - loss: 1.1319 - acc: 0.5379 - val_loss: 1.2766 - val_acc: 0.5133\n",
      "Epoch 5/15\n",
      "2850/2850 [==============================] - 22s - loss: 1.1258 - acc: 0.5291 - val_loss: 1.2508 - val_acc: 0.4600\n",
      "Epoch 6/15\n",
      "2850/2850 [==============================] - 19s - loss: 1.0993 - acc: 0.5432 - val_loss: 1.2594 - val_acc: 0.4800\n",
      "Epoch 7/15\n",
      "2850/2850 [==============================] - 18s - loss: 1.1021 - acc: 0.5421 - val_loss: 1.2965 - val_acc: 0.5000\n",
      "Epoch 8/15\n",
      "2850/2850 [==============================] - 22s - loss: 1.0821 - acc: 0.5456 - val_loss: 1.2492 - val_acc: 0.4800\n",
      "Epoch 9/15\n",
      "2850/2850 [==============================] - 23s - loss: 1.0652 - acc: 0.5491 - val_loss: 1.2271 - val_acc: 0.4933\n",
      "Epoch 10/15\n",
      "2850/2850 [==============================] - 23s - loss: 1.0492 - acc: 0.5523 - val_loss: 1.2930 - val_acc: 0.4733\n",
      "Epoch 11/15\n",
      "2850/2850 [==============================] - 18s - loss: 1.0378 - acc: 0.5575 - val_loss: 1.3002 - val_acc: 0.4733\n",
      "Epoch 12/15\n",
      "2850/2850 [==============================] - 19s - loss: 1.0367 - acc: 0.5488 - val_loss: 1.2526 - val_acc: 0.4867\n",
      "Epoch 13/15\n",
      "2850/2850 [==============================] - 19s - loss: 1.0143 - acc: 0.5653 - val_loss: 1.2625 - val_acc: 0.4867\n",
      "Epoch 14/15\n",
      "2850/2850 [==============================] - 21s - loss: 1.0149 - acc: 0.5484 - val_loss: 1.2105 - val_acc: 0.4667\n",
      "Epoch 15/15\n",
      "2850/2850 [==============================] - 20s - loss: 1.0004 - acc: 0.5684 - val_loss: 1.2859 - val_acc: 0.4933\n",
      " 992/1000 [============================>.] - ETA: 0sTraining 10000\n",
      "Train on 9500 samples, validate on 500 samples\n",
      "Epoch 1/15\n",
      "9500/9500 [==============================] - 65s - loss: 1.0876 - acc: 0.5211 - val_loss: 1.1218 - val_acc: 0.4920\n",
      "Epoch 2/15\n",
      "9500/9500 [==============================] - 64s - loss: 1.0608 - acc: 0.5283 - val_loss: 1.1132 - val_acc: 0.4980\n",
      "Epoch 3/15\n",
      "9500/9500 [==============================] - 67s - loss: 1.0485 - acc: 0.5223 - val_loss: 1.1033 - val_acc: 0.5020\n",
      "Epoch 4/15\n",
      "9500/9500 [==============================] - 121s - loss: 1.0363 - acc: 0.5272 - val_loss: 1.1093 - val_acc: 0.4960\n",
      "Epoch 5/15\n",
      "9500/9500 [==============================] - 104s - loss: 1.0209 - acc: 0.5348 - val_loss: 1.1102 - val_acc: 0.4960\n",
      "Epoch 6/15\n",
      "9500/9500 [==============================] - 88s - loss: 1.0161 - acc: 0.5368 - val_loss: 1.1163 - val_acc: 0.4920\n",
      "Epoch 7/15\n",
      "9500/9500 [==============================] - 63s - loss: 1.0021 - acc: 0.5487 - val_loss: 1.1262 - val_acc: 0.5060\n",
      "Epoch 8/15\n",
      "9500/9500 [==============================] - 82s - loss: 0.9889 - acc: 0.5584 - val_loss: 1.0991 - val_acc: 0.4880\n",
      "Epoch 9/15\n",
      "9500/9500 [==============================] - 102s - loss: 0.9697 - acc: 0.5575 - val_loss: 1.0950 - val_acc: 0.5160\n",
      "Epoch 10/15\n",
      "9500/9500 [==============================] - 95s - loss: 0.9378 - acc: 0.5841 - val_loss: 1.0415 - val_acc: 0.5380\n",
      "Epoch 11/15\n",
      "9500/9500 [==============================] - 97s - loss: 0.8513 - acc: 0.6324 - val_loss: 0.8689 - val_acc: 0.6320\n",
      "Epoch 12/15\n",
      "9500/9500 [==============================] - 95s - loss: 0.6006 - acc: 0.7640 - val_loss: 0.4624 - val_acc: 0.8360\n",
      "Epoch 13/15\n",
      "9500/9500 [==============================] - 90s - loss: 0.2314 - acc: 0.9238 - val_loss: 0.0610 - val_acc: 0.9880\n",
      "Epoch 14/15\n",
      "9500/9500 [==============================] - 92s - loss: 0.0235 - acc: 0.9946 - val_loss: 9.3103e-04 - val_acc: 1.0000\n",
      "Epoch 15/15\n",
      "9500/9500 [==============================] - 96s - loss: 0.0040 - acc: 0.9994 - val_loss: 2.1537e-05 - val_acc: 1.0000\n",
      "1000/1000 [==============================] - 3s     \n"
     ]
    }
   ],
   "source": [
    "accs = []\n",
    "for n_ex in [10, 100, 1000, 3000, 10000]:\n",
    "    print(\"Training\", n_ex)\n",
    "    model = Model([sentence, sentence_pos, question, question_pos], preds)\n",
    "    model.compile(optimizer='rmsprop',\n",
    "                  loss='categorical_crossentropy',\n",
    "                  metrics=['accuracy'])\n",
    "    model.fit([x[:n_ex], xpos[:n_ex], xq[:n_ex], xqpos[:n_ex]], y[:n_ex],\n",
    "          batch_size=BATCH_SIZE,\n",
    "          epochs=15,\n",
    "          validation_split=0.05)\n",
    "    _, acc = model.evaluate([tx, txpos, txq, txqpos], ty,\n",
    "                               batch_size=BATCH_SIZE)\n",
    "    accs.append(acc)"
   ]
  },
  {
   "cell_type": "code",
   "execution_count": 29,
   "metadata": {},
   "outputs": [
    {
     "data": {
      "image/png": "[encoded data removed]",
      "text/plain": [
       "<matplotlib.figure.Figure at 0x7ff79303acc0>"
      ]
     },
     "metadata": {},
     "output_type": "display_data"
    }
   ],
   "source": [
    "%matplotlib inline\n",
    "\n",
    "import matplotlib.pyplot as plt\n",
    "\n",
    "fig = plt.figure(figsize=[6, 6])\n",
    "plt.semilogx([10, 100, 1000, 3000, 10000], accs, linewidth=3)\n",
    "plt.xlabel('Number of training examples', size=18)\n",
    "plt.ylabel('Test accuracy', size=18)\n",
    "plt.title('Accuracy on Task 1', size=18)\n",
    "plt.show()"
   ]
  }
 ],
 "metadata": {
  "kernelspec": {
   "display_name": "Python 3",
   "language": "python",
   "name": "python3"
  },
  "language_info": {
   "codemirror_mode": {
    "name": "ipython",
    "version": 3
   },
   "file_extension": ".py",
   "mimetype": "text/x-python",
   "name": "python",
   "nbconvert_exporter": "python",
   "pygments_lexer": "ipython3",
   "version": "3.6.1"
  }
 },
 "nbformat": 4,
 "nbformat_minor": 2
}
